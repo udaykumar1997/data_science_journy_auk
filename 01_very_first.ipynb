{
  "nbformat": 4,
  "nbformat_minor": 0,
  "metadata": {
    "colab": {
      "name": "01 very first.ipynb",
      "provenance": [],
      "authorship_tag": "ABX9TyMfGwPf7x9ZKcx05SuSxpeg",
      "include_colab_link": true
    },
    "kernelspec": {
      "name": "python3",
      "display_name": "Python 3"
    }
  },
  "cells": [
    {
      "cell_type": "markdown",
      "metadata": {
        "id": "view-in-github",
        "colab_type": "text"
      },
      "source": [
        "<a href=\"https://colab.research.google.com/github/udaykumar1997/data_science_journy_auk/blob/master/01_very_first.ipynb\" target=\"_parent\"><img src=\"https://colab.research.google.com/assets/colab-badge.svg\" alt=\"Open In Colab\"/></a>"
      ]
    },
    {
      "cell_type": "code",
      "metadata": {
        "id": "L1OA74UXmDP0",
        "colab_type": "code",
        "outputId": "8e27cc4b-1b8d-43eb-8bc4-bd946849c29b",
        "colab": {
          "base_uri": "https://localhost:8080/",
          "height": 34
        }
      },
      "source": [
        "#@title one two coming\n",
        "lalu = 1250*50\n",
        "lalu"
      ],
      "execution_count": 0,
      "outputs": [
        {
          "output_type": "execute_result",
          "data": {
            "text/plain": [
              "62500"
            ]
          },
          "metadata": {
            "tags": []
          },
          "execution_count": 1
        }
      ]
    },
    {
      "cell_type": "code",
      "metadata": {
        "id": "nM-o10NUqZTh",
        "colab_type": "code",
        "colab": {}
      },
      "source": [
        "lalu = 1250*40\n",
        "lalu"
      ],
      "execution_count": 0,
      "outputs": []
    }
  ]
}